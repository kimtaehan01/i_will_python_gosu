{
 "cells": [
  {
   "cell_type": "code",
   "execution_count": null,
   "metadata": {},
   "outputs": [],
   "source": [
    "import requests\n",
    "from bs4 import BeautifulSoup\n",
    "from datetime import datetime\n",
    "\n",
    "headers = \"Mozilla/5.0 (Windows NT 10.0; Win64; x64) AppleWebKit/537.36 (KHTML, like Gecko) Chrome/108.0.0.0 Safari/537.36 Edg/108.0.1462.54\"\n",
    "now = str(int(datetime.today().strftime(\"%Y%m%d\"))-1) #전날 yesterday\n",
    "page = '1' #링크용\n",
    "check_page = '1' #비교용\n",
    "datas = {} #뉴스 제목 및 링크"
   ]
  },
  {
   "cell_type": "code",
   "execution_count": null,
   "metadata": {},
   "outputs": [],
   "source": [
    "while(1):\n",
    "    response=requests.get(\"https://news.naver.com/main/list.naver?mode=LSD&mid=sec&sid1=001&listType=title&date=\"f'{now}'\"&page=\"f'{page}', headers={'User-Agent': f'{headers}'})\n",
    "    html=response.text\n",
    "    soup=BeautifulSoup(html,'html.parser')\n",
    "    ul=soup.find(\"div\",class_=\"paging\")\n",
    "    npage=ul.find(\"strong\")\n",
    "    print(npage.text)\n",
    "    print(type(npage))\n",
    "    check_page = npage.text\n",
    "    if page != check_page:\n",
    "        break \n",
    "    print(\"ok\")\n",
    "    news=soup.find(\"td\",class_=\"content\")\n",
    "    for a in news.find_all(\"a\",class_=\"nclicks(fls.list)\"):\n",
    "        title=a.text\n",
    "        url = a['href']\n",
    "        datas[title] = url\n",
    "    page=str(int(page)+1)    "
   ]
  },
  {
   "cell_type": "code",
   "execution_count": null,
   "metadata": {},
   "outputs": [],
   "source": [
    "for k, v in datas.items():\n",
    "    print(k,v)"
   ]
  }
 ],
 "metadata": {
  "kernelspec": {
   "display_name": "Python 3",
   "language": "python",
   "name": "python3"
  },
  "language_info": {
   "name": "python",
   "version": "3.10.7"
  }
 },
 "nbformat": 4,
 "nbformat_minor": 2
}
